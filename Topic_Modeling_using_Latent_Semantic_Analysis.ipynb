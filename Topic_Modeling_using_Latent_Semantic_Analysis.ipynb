{
  "nbformat": 4,
  "nbformat_minor": 0,
  "metadata": {
    "colab": {
      "name": "Topic Modeling using Latent Semantic Analysis.ipynb",
      "version": "0.3.2",
      "provenance": [],
      "collapsed_sections": []
    },
    "kernelspec": {
      "name": "python3",
      "display_name": "Python 3"
    }
  },
  "cells": [
    {
      "metadata": {
        "id": "KT5ahx9K8zeD",
        "colab_type": "text"
      },
      "cell_type": "markdown",
      "source": [
        "# Problem Understanding"
      ]
    },
    {
      "metadata": {
        "id": "Q22680dU85z3",
        "colab_type": "text"
      },
      "cell_type": "markdown",
      "source": [
        "A Topic Model can be defined as an unsupervised technique to discover topics across various text documents. These topics are abstract in nature, i.e., words \n",
        "which are related to each other form a topic. Similarly, there can be multiple topics in an individual document."
      ]
    },
    {
      "metadata": {
        "id": "h1uMQPpQ9Bid",
        "colab_type": "text"
      },
      "cell_type": "markdown",
      "source": [
        "# Imports"
      ]
    },
    {
      "metadata": {
        "id": "0pG6b2mP8_XC",
        "colab_type": "code",
        "colab": {
          "base_uri": "https://localhost:8080/",
          "height": 51
        },
        "outputId": "bc8c320a-79f3-4846-efd1-b73f9955ce2b"
      },
      "cell_type": "code",
      "source": [
        "import umap \n",
        "import nltk\n",
        "import numpy as np \n",
        "import pandas as pd \n",
        "nltk.download('stopwords')\n",
        "import matplotlib.pyplot as plt \n",
        "from nltk.corpus import stopwords \n",
        "from sklearn.decomposition import TruncatedSVD \n",
        "from sklearn.datasets import fetch_20newsgroups\n",
        "from sklearn.feature_extraction.text import TfidfVectorizer \n",
        "stop_words = stopwords.words('english') \n",
        "pd.set_option(\"display.max_colwidth\", 200)"
      ],
      "execution_count": 18,
      "outputs": [
        {
          "output_type": "stream",
          "text": [
            "[nltk_data] Downloading package stopwords to /root/nltk_data...\n",
            "[nltk_data]   Package stopwords is already up-to-date!\n"
          ],
          "name": "stdout"
        }
      ]
    },
    {
      "metadata": {
        "id": "R7MODBn89U0H",
        "colab_type": "text"
      },
      "cell_type": "markdown",
      "source": [
        "# Exploring Data"
      ]
    },
    {
      "metadata": {
        "id": "7IWmWY5U9Wyr",
        "colab_type": "code",
        "colab": {
          "base_uri": "https://localhost:8080/",
          "height": 374
        },
        "outputId": "ff2a1595-0745-46f6-af2c-9f49c0bcf409"
      },
      "cell_type": "code",
      "source": [
        "dataset = fetch_20newsgroups(shuffle=True, random_state=1, remove=('headers', 'footers', 'quotes')) \n",
        "documents = dataset.data \n",
        "print(len(documents))\n",
        "dataset.target_names"
      ],
      "execution_count": 5,
      "outputs": [
        {
          "output_type": "stream",
          "text": [
            "11314\n"
          ],
          "name": "stdout"
        },
        {
          "output_type": "execute_result",
          "data": {
            "text/plain": [
              "['alt.atheism',\n",
              " 'comp.graphics',\n",
              " 'comp.os.ms-windows.misc',\n",
              " 'comp.sys.ibm.pc.hardware',\n",
              " 'comp.sys.mac.hardware',\n",
              " 'comp.windows.x',\n",
              " 'misc.forsale',\n",
              " 'rec.autos',\n",
              " 'rec.motorcycles',\n",
              " 'rec.sport.baseball',\n",
              " 'rec.sport.hockey',\n",
              " 'sci.crypt',\n",
              " 'sci.electronics',\n",
              " 'sci.med',\n",
              " 'sci.space',\n",
              " 'soc.religion.christian',\n",
              " 'talk.politics.guns',\n",
              " 'talk.politics.mideast',\n",
              " 'talk.politics.misc',\n",
              " 'talk.religion.misc']"
            ]
          },
          "metadata": {
            "tags": []
          },
          "execution_count": 5
        }
      ]
    },
    {
      "metadata": {
        "id": "lp7V94hh9n58",
        "colab_type": "text"
      },
      "cell_type": "markdown",
      "source": [
        "# Data Preprocessing"
      ]
    },
    {
      "metadata": {
        "id": "98mYPflp9pOM",
        "colab_type": "code",
        "colab": {}
      },
      "cell_type": "code",
      "source": [
        "news_df = pd.DataFrame({'document':documents}) \n",
        "# remove everything except alphabets` \n",
        "news_df['clean_doc'] = news_df['document'].str.replace(\"[^a-zA-Z]\", \" \") \n",
        "# remove short words \n",
        "news_df['clean_doc']=news_df['clean_doc'].apply(lambda x:' '.join([w for w in x.split() if len(w)>3])) \n",
        "# make all text lowercase \n",
        "news_df['clean_doc'] = news_df['clean_doc'].apply(lambda x: x.lower())"
      ],
      "execution_count": 0,
      "outputs": []
    },
    {
      "metadata": {
        "id": "dGliF0xh-Npp",
        "colab_type": "code",
        "colab": {}
      },
      "cell_type": "code",
      "source": [
        "# tokenization \n",
        "tokenized_doc = news_df['clean_doc'].apply(lambda x: x.split()) \n",
        "# remove stop-words \n",
        "tokenized_doc = tokenized_doc.apply(lambda x: [item for item in x if item not in stop_words]) \n",
        "# de-tokenization \n",
        "detokenized_doc = [] \n",
        "for i in range(len(news_df)): \n",
        "    t = ' '.join(tokenized_doc[i]) \n",
        "    detokenized_doc.append(t) \n",
        "news_df['clean_doc'] = detokenized_doc"
      ],
      "execution_count": 0,
      "outputs": []
    },
    {
      "metadata": {
        "id": "XJKV0S2_-Ql3",
        "colab_type": "text"
      },
      "cell_type": "markdown",
      "source": [
        "# Document-Term Matrix"
      ]
    },
    {
      "metadata": {
        "id": "w9kGcCm3-eSV",
        "colab_type": "code",
        "colab": {
          "base_uri": "https://localhost:8080/",
          "height": 34
        },
        "outputId": "9df74e97-286d-4576-d08c-aac4cbf8aacc"
      },
      "cell_type": "code",
      "source": [
        "vectorizer = TfidfVectorizer(stop_words='english', max_features= 1000, max_df = 0.5, smooth_idf=True) \n",
        "X = vectorizer.fit_transform(news_df['clean_doc']) \n",
        "X.shape"
      ],
      "execution_count": 14,
      "outputs": [
        {
          "output_type": "execute_result",
          "data": {
            "text/plain": [
              "(11314, 1000)"
            ]
          },
          "metadata": {
            "tags": []
          },
          "execution_count": 14
        }
      ]
    },
    {
      "metadata": {
        "id": "rcpoTDNo-g7c",
        "colab_type": "text"
      },
      "cell_type": "markdown",
      "source": [
        "# Topic Modelling"
      ]
    },
    {
      "metadata": {
        "id": "fRkfLpfA-i6V",
        "colab_type": "code",
        "colab": {
          "base_uri": "https://localhost:8080/",
          "height": 34
        },
        "outputId": "b7d3e10a-1369-497a-ceac-c04ab35abb53"
      },
      "cell_type": "code",
      "source": [
        "# SVD represent documents and terms in vectors \n",
        "svd_model = TruncatedSVD(n_components=20, algorithm='randomized', n_iter=100, random_state=122) \n",
        "svd_model.fit(X) \n",
        "len(svd_model.components_)"
      ],
      "execution_count": 16,
      "outputs": [
        {
          "output_type": "execute_result",
          "data": {
            "text/plain": [
              "20"
            ]
          },
          "metadata": {
            "tags": []
          },
          "execution_count": 16
        }
      ]
    },
    {
      "metadata": {
        "id": "u-cJJdKq-rQu",
        "colab_type": "code",
        "colab": {
          "base_uri": "https://localhost:8080/",
          "height": 5117
        },
        "outputId": "6a0b7aaf-6b57-4583-c6b3-91b6d72080bf"
      },
      "cell_type": "code",
      "source": [
        "terms = vectorizer.get_feature_names() \n",
        "for i, comp in enumerate(svd_model.components_): \n",
        "    terms_comp = zip(terms, comp) \n",
        "    sorted_terms = sorted(terms_comp, key= lambda x:x[1],        \n",
        "    reverse=True)[:7] \n",
        "    print(\"Topic \"+str(i)+\": \") \n",
        "    for t in sorted_terms: \n",
        "        print(t[0]) \n",
        "        print(\" \")"
      ],
      "execution_count": 17,
      "outputs": [
        {
          "output_type": "stream",
          "text": [
            "Topic 0: \n",
            "like\n",
            " \n",
            "know\n",
            " \n",
            "people\n",
            " \n",
            "think\n",
            " \n",
            "good\n",
            " \n",
            "time\n",
            " \n",
            "thanks\n",
            " \n",
            "Topic 1: \n",
            "thanks\n",
            " \n",
            "windows\n",
            " \n",
            "card\n",
            " \n",
            "drive\n",
            " \n",
            "mail\n",
            " \n",
            "file\n",
            " \n",
            "advance\n",
            " \n",
            "Topic 2: \n",
            "game\n",
            " \n",
            "team\n",
            " \n",
            "year\n",
            " \n",
            "games\n",
            " \n",
            "season\n",
            " \n",
            "players\n",
            " \n",
            "good\n",
            " \n",
            "Topic 3: \n",
            "drive\n",
            " \n",
            "scsi\n",
            " \n",
            "hard\n",
            " \n",
            "disk\n",
            " \n",
            "card\n",
            " \n",
            "drives\n",
            " \n",
            "problem\n",
            " \n",
            "Topic 4: \n",
            "windows\n",
            " \n",
            "file\n",
            " \n",
            "window\n",
            " \n",
            "files\n",
            " \n",
            "program\n",
            " \n",
            "using\n",
            " \n",
            "problem\n",
            " \n",
            "Topic 5: \n",
            "chip\n",
            " \n",
            "government\n",
            " \n",
            "mail\n",
            " \n",
            "space\n",
            " \n",
            "information\n",
            " \n",
            "encryption\n",
            " \n",
            "data\n",
            " \n",
            "Topic 6: \n",
            "like\n",
            " \n",
            "bike\n",
            " \n",
            "chip\n",
            " \n",
            "know\n",
            " \n",
            "sounds\n",
            " \n",
            "looks\n",
            " \n",
            "look\n",
            " \n",
            "Topic 7: \n",
            "card\n",
            " \n",
            "video\n",
            " \n",
            "sale\n",
            " \n",
            "monitor\n",
            " \n",
            "offer\n",
            " \n",
            "price\n",
            " \n",
            "jesus\n",
            " \n",
            "Topic 8: \n",
            "know\n",
            " \n",
            "card\n",
            " \n",
            "chip\n",
            " \n",
            "government\n",
            " \n",
            "video\n",
            " \n",
            "people\n",
            " \n",
            "clipper\n",
            " \n",
            "Topic 9: \n",
            "good\n",
            " \n",
            "know\n",
            " \n",
            "time\n",
            " \n",
            "bike\n",
            " \n",
            "jesus\n",
            " \n",
            "problem\n",
            " \n",
            "work\n",
            " \n",
            "Topic 10: \n",
            "think\n",
            " \n",
            "chip\n",
            " \n",
            "good\n",
            " \n",
            "thanks\n",
            " \n",
            "clipper\n",
            " \n",
            "encryption\n",
            " \n",
            "need\n",
            " \n",
            "Topic 11: \n",
            "thanks\n",
            " \n",
            "good\n",
            " \n",
            "right\n",
            " \n",
            "bike\n",
            " \n",
            "problem\n",
            " \n",
            "people\n",
            " \n",
            "time\n",
            " \n",
            "Topic 12: \n",
            "good\n",
            " \n",
            "people\n",
            " \n",
            "windows\n",
            " \n",
            "know\n",
            " \n",
            "file\n",
            " \n",
            "sale\n",
            " \n",
            "files\n",
            " \n",
            "Topic 13: \n",
            "space\n",
            " \n",
            "think\n",
            " \n",
            "know\n",
            " \n",
            "nasa\n",
            " \n",
            "problem\n",
            " \n",
            "year\n",
            " \n",
            "israel\n",
            " \n",
            "Topic 14: \n",
            "space\n",
            " \n",
            "good\n",
            " \n",
            "card\n",
            " \n",
            "people\n",
            " \n",
            "time\n",
            " \n",
            "nasa\n",
            " \n",
            "thanks\n",
            " \n",
            "Topic 15: \n",
            "people\n",
            " \n",
            "problem\n",
            " \n",
            "window\n",
            " \n",
            "time\n",
            " \n",
            "game\n",
            " \n",
            "want\n",
            " \n",
            "work\n",
            " \n",
            "Topic 16: \n",
            "time\n",
            " \n",
            "bike\n",
            " \n",
            "right\n",
            " \n",
            "windows\n",
            " \n",
            "file\n",
            " \n",
            "need\n",
            " \n",
            "really\n",
            " \n",
            "Topic 17: \n",
            "time\n",
            " \n",
            "problem\n",
            " \n",
            "file\n",
            " \n",
            "think\n",
            " \n",
            "israel\n",
            " \n",
            "long\n",
            " \n",
            "mail\n",
            " \n",
            "Topic 18: \n",
            "file\n",
            " \n",
            "need\n",
            " \n",
            "card\n",
            " \n",
            "files\n",
            " \n",
            "right\n",
            " \n",
            "problem\n",
            " \n",
            "good\n",
            " \n",
            "Topic 19: \n",
            "problem\n",
            " \n",
            "file\n",
            " \n",
            "thanks\n",
            " \n",
            "used\n",
            " \n",
            "space\n",
            " \n",
            "chip\n",
            " \n",
            "sale\n",
            " \n"
          ],
          "name": "stdout"
        }
      ]
    },
    {
      "metadata": {
        "id": "9irYrHoZ-uSg",
        "colab_type": "text"
      },
      "cell_type": "markdown",
      "source": [
        "# Topic Visualization"
      ]
    },
    {
      "metadata": {
        "id": "KMuGBLse-z6e",
        "colab_type": "code",
        "colab": {
          "base_uri": "https://localhost:8080/",
          "height": 320
        },
        "outputId": "e810413e-4afd-45ef-dcf2-31da469850b8"
      },
      "cell_type": "code",
      "source": [
        "X_topics = svd_model.fit_transform(X) \n",
        "embedding = umap.UMAP(n_neighbors=150, min_dist=0.5, random_state=12).fit_transform(X_topics) \n",
        "plt.figure(figsize=(7,5)) \n",
        "plt.scatter(embedding[:, 0], embedding[:, 1], \n",
        "c = dataset.target, \n",
        "s = 10, # size \n",
        "edgecolor='none' ) \n",
        "plt.show()"
      ],
      "execution_count": 19,
      "outputs": [
        {
          "output_type": "display_data",
          "data": {
            "image/png": "[encoded data removed]",
            "text/plain": [
              "<Figure size 504x360 with 1 Axes>"
            ]
          },
          "metadata": {
            "tags": []
          }
        }
      ]
    },
    {
      "metadata": {
        "id": "312BPmLu_Iqo",
        "colab_type": "text"
      },
      "cell_type": "markdown",
      "source": [
        "# Conclusion"
      ]
    },
    {
      "metadata": {
        "id": "p_Xx_RIV_Kim",
        "colab_type": "text"
      },
      "cell_type": "markdown",
      "source": [
        "As you can see above, the result is quite beautiful. Each dot represents a document and the colours represent the 20 newsgroups. Our LSA model seems to have done a good job."
      ]
    }
  ]
}